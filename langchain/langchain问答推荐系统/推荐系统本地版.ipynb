{
 "cells": [
  {
   "cell_type": "markdown",
   "id": "61f28a21-b589-4aec-8060-3f277a702afd",
   "metadata": {},
   "source": [
    "源代码链接：https://github.com/qianniuspace/llm_notebooks/tree/main/Recommendation-system-with-LLMs   "
   ]
  },
  {
   "cell_type": "code",
   "execution_count": 1,
   "id": "9aa3e3ad-f01d-480f-ad71-17d8173e98c2",
   "metadata": {},
   "outputs": [
    {
     "data": {
      "text/html": [
       "<div>\n",
       "<style scoped>\n",
       "    .dataframe tbody tr th:only-of-type {\n",
       "        vertical-align: middle;\n",
       "    }\n",
       "\n",
       "    .dataframe tbody tr th {\n",
       "        vertical-align: top;\n",
       "    }\n",
       "\n",
       "    .dataframe thead th {\n",
       "        text-align: right;\n",
       "    }\n",
       "</style>\n",
       "<table border=\"1\" class=\"dataframe\">\n",
       "  <thead>\n",
       "    <tr style=\"text-align: right;\">\n",
       "      <th></th>\n",
       "      <th>MAL_ID</th>\n",
       "      <th>Name</th>\n",
       "      <th>Score</th>\n",
       "      <th>Genres</th>\n",
       "      <th>sypnopsis</th>\n",
       "    </tr>\n",
       "  </thead>\n",
       "  <tbody>\n",
       "    <tr>\n",
       "      <th>0</th>\n",
       "      <td>1</td>\n",
       "      <td>Cowboy Bebop</td>\n",
       "      <td>8.78</td>\n",
       "      <td>Action, Adventure, Comedy, Drama, Sci-Fi, Space</td>\n",
       "      <td>In the year 2071, humanity has colonized sever...</td>\n",
       "    </tr>\n",
       "    <tr>\n",
       "      <th>1</th>\n",
       "      <td>5</td>\n",
       "      <td>Cowboy Bebop: Tengoku no Tobira</td>\n",
       "      <td>8.39</td>\n",
       "      <td>Action, Drama, Mystery, Sci-Fi, Space</td>\n",
       "      <td>other day, another bounty—such is the life of ...</td>\n",
       "    </tr>\n",
       "    <tr>\n",
       "      <th>2</th>\n",
       "      <td>6</td>\n",
       "      <td>Trigun</td>\n",
       "      <td>8.24</td>\n",
       "      <td>Action, Sci-Fi, Adventure, Comedy, Drama, Shounen</td>\n",
       "      <td>Vash the Stampede is the man with a $$60,000,0...</td>\n",
       "    </tr>\n",
       "    <tr>\n",
       "      <th>3</th>\n",
       "      <td>7</td>\n",
       "      <td>Witch Hunter Robin</td>\n",
       "      <td>7.27</td>\n",
       "      <td>Action, Mystery, Police, Supernatural, Drama, ...</td>\n",
       "      <td>ches are individuals with special powers like ...</td>\n",
       "    </tr>\n",
       "    <tr>\n",
       "      <th>4</th>\n",
       "      <td>8</td>\n",
       "      <td>Bouken Ou Beet</td>\n",
       "      <td>6.98</td>\n",
       "      <td>Adventure, Fantasy, Shounen, Supernatural</td>\n",
       "      <td>It is the dark century and the people are suff...</td>\n",
       "    </tr>\n",
       "  </tbody>\n",
       "</table>\n",
       "</div>"
      ],
      "text/plain": [
       "   MAL_ID                             Name Score  \\\n",
       "0       1                     Cowboy Bebop  8.78   \n",
       "1       5  Cowboy Bebop: Tengoku no Tobira  8.39   \n",
       "2       6                           Trigun  8.24   \n",
       "3       7               Witch Hunter Robin  7.27   \n",
       "4       8                   Bouken Ou Beet  6.98   \n",
       "\n",
       "                                              Genres  \\\n",
       "0    Action, Adventure, Comedy, Drama, Sci-Fi, Space   \n",
       "1              Action, Drama, Mystery, Sci-Fi, Space   \n",
       "2  Action, Sci-Fi, Adventure, Comedy, Drama, Shounen   \n",
       "3  Action, Mystery, Police, Supernatural, Drama, ...   \n",
       "4          Adventure, Fantasy, Shounen, Supernatural   \n",
       "\n",
       "                                           sypnopsis  \n",
       "0  In the year 2071, humanity has colonized sever...  \n",
       "1  other day, another bounty—such is the life of ...  \n",
       "2  Vash the Stampede is the man with a $$60,000,0...  \n",
       "3  ches are individuals with special powers like ...  \n",
       "4  It is the dark century and the people are suff...  "
      ]
     },
     "execution_count": 1,
     "metadata": {},
     "output_type": "execute_result"
    }
   ],
   "source": [
    "import pandas as pd\n",
    "\n",
    "anime = pd. read_csv('anime_with_synopsis.csv')\n",
    "anime.head()"
   ]
  },
  {
   "cell_type": "markdown",
   "id": "f6fc93a3-6a9e-4379-8697-c85c3b85d4db",
   "metadata": {},
   "source": [
    "源码见 Recommendation systems.ipynb 文件   \n",
    "底下`apply`操作详见`pandas_apply.ipynb`文件"
   ]
  },
  {
   "cell_type": "code",
   "execution_count": 2,
   "id": "dc666d07-9d81-43aa-81f4-67a46c1f467a",
   "metadata": {},
   "outputs": [
    {
     "data": {
      "text/plain": [
       "'Title: Cowboy Bebop. Overview: In the year 2071, humanity has colonized several of the planets and moons of the solar system leaving the now uninhabitable surface of planet Earth behind. The Inter Solar System Police attempts to keep peace in the galaxy, aided in part by outlaw bounty hunters, referred to as \"Cowboys.\" The ragtag team aboard the spaceship Bebop are two such individuals. Mellow and carefree Spike Spiegel is balanced by his boisterous, pragmatic partner Jet Black as the pair makes a living chasing bounties and collecting rewards. Thrown off course by the addition of new members that they meet in their travels—Ein, a genetically engineered, highly intelligent Welsh Corgi; femme fatale Faye Valentine, an enigmatic trickster with memory loss; and the strange computer whiz kid Edward Wong—the crew embarks on thrilling adventures that unravel each member\\'s dark and mysterious past little by little. Well-balanced with high density action and light-hearted comedy, Cowboy Bebop is a space Western classic and an homage to the smooth and improvised music it is named after. Genres: Action, Adventure, Comedy, Drama, Sci-Fi, Space'"
      ]
     },
     "execution_count": 2,
     "metadata": {},
     "output_type": "execute_result"
    }
   ],
   "source": [
    "anime = anime.dropna() # 删除空值\n",
    "anime['combined_info'] = anime.apply(lambda row: f\"Title: {row['Name']}. Overview: {row['sypnopsis']} Genres: {row['Genres']}\", axis=1)\n",
    "anime['combined_info'][0]"
   ]
  },
  {
   "cell_type": "code",
   "execution_count": 5,
   "id": "c968211f-5f67-42a2-ba4d-97964cae272b",
   "metadata": {},
   "outputs": [
    {
     "data": {
      "text/plain": [
       "16206"
      ]
     },
     "execution_count": 5,
     "metadata": {},
     "output_type": "execute_result"
    }
   ],
   "source": [
    "from transformers import AutoTokenizer\n",
    "\n",
    "tokenizer = AutoTokenizer.from_pretrained(\"BAAI/bge-m3\")\n",
    "\n",
    "max_tokens = 512  # 根据模型实际最大长度设置\n",
    "\n",
    "# 使用tokenizer自动截断\n",
    "anime[\"n_tokens\"] = anime.combined_info.apply(lambda x: len(tokenizer.encode(x, truncation=True, max_length=max_tokens)))\n",
    "'''anime.combined_info是数据表中存储 “合并后文本信息” 的列（比如之前拼接的标题、简介、类型等\n",
    "apply(lambda x: ...)遍历该列的每一条文本（x），对每条文本执行以下操作：\n",
    "tokenizer.encode(x, truncation=True, max_length=max_tokens)：将文本x转换为 token 序列（数字 ID）。\n",
    "truncation=True：如果文本长度超过max_tokens，自动截断到max_tokens长度（避免编码失败）。\n",
    "max_length=max_tokens：明确截断的最大长度为 512。\n",
    "len(...)：计算编码后的 token 序列长度，即这条文本的 token 数量。\n",
    "结果存储在新列n_tokens中，记录每条文本的 token 数。\n",
    "'''\n",
    "anime = anime[anime.n_tokens <= max_tokens]  # 过滤后数据量\n",
    "len(anime)"
   ]
  },
  {
   "cell_type": "markdown",
   "id": "d12aa569-8cf1-447f-9259-f1b1ad55b53e",
   "metadata": {},
   "source": [
    "下面不是运行代码，但有借鉴价值"
   ]
  },
  {
   "cell_type": "code",
   "execution_count": null,
   "id": "0dde8209-21e8-4344-a68a-9ebf484e5700",
   "metadata": {},
   "outputs": [],
   "source": [
    "# 1. 查看 token 数量分布\n",
    "print(anime.n_tokens.describe())\n",
    "# 输出：count    1000.0, mean     156.2, std       89.5, min       45.0, 25%       89.0, 50%      142.0, 75%      198.0, max      510.0\n",
    "\n",
    "# 2. 过滤过长的文本（你代码中的下一行）\n",
    "anime = anime[anime.n_tokens <= max_tokens]  # max_tokens=512\n",
    "\n",
    "# 3. 查看被过滤的数据量\n",
    "print(f\"原始数据量: {len(anime)}\")\n",
    "print(f\"过滤后数据量: {len(anime[anime.n_tokens <= max_tokens])}\")\n",
    "print(f\"被过滤的数据: {len(anime[anime.n_tokens > max_tokens])}\")"
   ]
  },
  {
   "cell_type": "markdown",
   "id": "f31fed48-20d9-4791-a626-3e5e45efff80",
   "metadata": {},
   "source": [
    "## 使用 sentence-transformers 库"
   ]
  },
  {
   "cell_type": "code",
   "execution_count": 10,
   "id": "e09e98bf-d19e-4984-a437-54ef043e56fe",
   "metadata": {},
   "outputs": [
    {
     "name": "stdout",
     "output_type": "stream",
     "text": [
      "使用设备: cuda\n"
     ]
    },
    {
     "name": "stderr",
     "output_type": "stream",
     "text": [
      "Batches: 100%|██████████| 64/64 [00:18<00:00,  3.49it/s]\n"
     ]
    }
   ],
   "source": [
    "import torch\n",
    "from sentence_transformers import SentenceTransformer\n",
    "\n",
    "# 检查 GPU 是否可用\n",
    "device = 'cuda' if torch.cuda.is_available() else 'cpu'\n",
    "print(f\"使用设备: {device}\")\n",
    "\n",
    "model = SentenceTransformer(\"all-MiniLM-L6-v2\", device=device) # 句子嵌入模型 all-MiniLM-L6-v2  使用GPU加速\n",
    "\n",
    "texts = anime.combined_info.tolist() # 将数据表中存储 “合并后动漫信息” 的列 转换为 列表，作为模型的输入格式\n",
    "\n",
    "# 生成文本嵌入向量\n",
    "embeddings = model.encode(\n",
    "    texts,\n",
    "    batch_size=256 if device == 'cuda' else 128,  # 一次处理的文本数量。GPU 内存更大，可设为 256；CPU 内存有限，设为 128（避免内存溢出）。\n",
    "    show_progress_bar=True,     # 显示进度条\n",
    "    normalize_embeddings=True  # 将生成的向量归一化（模长为 1），确保后续计算相似度时结果更准确。\n",
    ")\n",
    "\n",
    "anime[\"embedding\"] = list(embeddings)  # list(embeddings) 可以把多维数组拆成 “一维列表的集合” 存储嵌入向量到数据表"
   ]
  },
  {
   "cell_type": "markdown",
   "id": "05202872-8f11-4d72-b2a3-1d93335ab045",
   "metadata": {},
   "source": [
    "```python \n",
    "   anime.to_pickle('anime.pkl')\n",
    "```\n",
    "`to_pickle()` 是 pandas 的方法，将整理后的 anime 数据表保存为 Python 的 pickle 格式文件（anime.pkl）。   \n",
    "pickle 格式可**完整保留数据的结构和类型**（包括 vector 列的列表型向量、text 列的字符串等），后续**无需重新处理数据，直接用 pd.read_pickle('anime.pkl') 即可快速加载**。   \n",
    "保存本地文件的目的：避免重复执行分词、生成嵌入向量等耗时步骤，后续构建 LanceDB 时可直接读取复用。   "
   ]
  },
  {
   "cell_type": "code",
   "execution_count": 12,
   "id": "1418a58a-1972-45a3-aea3-2c30e6148d8c",
   "metadata": {},
   "outputs": [],
   "source": [
    "from langchain.vectorstores import LanceDB # 向量数据库\n",
    "anime.rename(columns = {'embedding': 'vector'}, inplace = True) \n",
    "#rename(columns={旧列名: 新列名}) 用于修改 DataFrame 的列名，inplace=True 表示直接在原数据表上修改（不创建新副本）\n",
    "anime.rename(columns = {'combined_info': 'text'}, inplace = True)\n",
    "anime.to_pickle('anime.pkl')"
   ]
  },
  {
   "cell_type": "code",
   "execution_count": 13,
   "id": "693274a1",
   "metadata": {},
   "outputs": [
    {
     "data": {
      "text/html": [
       "<div>\n",
       "<style scoped>\n",
       "    .dataframe tbody tr th:only-of-type {\n",
       "        vertical-align: middle;\n",
       "    }\n",
       "\n",
       "    .dataframe tbody tr th {\n",
       "        vertical-align: top;\n",
       "    }\n",
       "\n",
       "    .dataframe thead th {\n",
       "        text-align: right;\n",
       "    }\n",
       "</style>\n",
       "<table border=\"1\" class=\"dataframe\">\n",
       "  <thead>\n",
       "    <tr style=\"text-align: right;\">\n",
       "      <th></th>\n",
       "      <th>MAL_ID</th>\n",
       "      <th>Name</th>\n",
       "      <th>Score</th>\n",
       "      <th>Genres</th>\n",
       "      <th>sypnopsis</th>\n",
       "      <th>text</th>\n",
       "      <th>n_tokens</th>\n",
       "      <th>vector</th>\n",
       "    </tr>\n",
       "  </thead>\n",
       "  <tbody>\n",
       "    <tr>\n",
       "      <th>0</th>\n",
       "      <td>1</td>\n",
       "      <td>Cowboy Bebop</td>\n",
       "      <td>8.78</td>\n",
       "      <td>Action, Adventure, Comedy, Drama, Sci-Fi, Space</td>\n",
       "      <td>In the year 2071, humanity has colonized sever...</td>\n",
       "      <td>Title: Cowboy Bebop. Overview: In the year 207...</td>\n",
       "      <td>294</td>\n",
       "      <td>[-0.075829476, -0.038479, -0.037791666, -0.005...</td>\n",
       "    </tr>\n",
       "    <tr>\n",
       "      <th>1</th>\n",
       "      <td>5</td>\n",
       "      <td>Cowboy Bebop: Tengoku no Tobira</td>\n",
       "      <td>8.39</td>\n",
       "      <td>Action, Drama, Mystery, Sci-Fi, Space</td>\n",
       "      <td>other day, another bounty—such is the life of ...</td>\n",
       "      <td>Title: Cowboy Bebop: Tengoku no Tobira. Overvi...</td>\n",
       "      <td>242</td>\n",
       "      <td>[-0.091244884, 0.031044936, -0.019721977, 0.03...</td>\n",
       "    </tr>\n",
       "  </tbody>\n",
       "</table>\n",
       "</div>"
      ],
      "text/plain": [
       "   MAL_ID                             Name Score  \\\n",
       "0       1                     Cowboy Bebop  8.78   \n",
       "1       5  Cowboy Bebop: Tengoku no Tobira  8.39   \n",
       "\n",
       "                                            Genres  \\\n",
       "0  Action, Adventure, Comedy, Drama, Sci-Fi, Space   \n",
       "1            Action, Drama, Mystery, Sci-Fi, Space   \n",
       "\n",
       "                                           sypnopsis  \\\n",
       "0  In the year 2071, humanity has colonized sever...   \n",
       "1  other day, another bounty—such is the life of ...   \n",
       "\n",
       "                                                text  n_tokens  \\\n",
       "0  Title: Cowboy Bebop. Overview: In the year 207...       294   \n",
       "1  Title: Cowboy Bebop: Tengoku no Tobira. Overvi...       242   \n",
       "\n",
       "                                              vector  \n",
       "0  [-0.075829476, -0.038479, -0.037791666, -0.005...  \n",
       "1  [-0.091244884, 0.031044936, -0.019721977, 0.03...  "
      ]
     },
     "execution_count": 13,
     "metadata": {},
     "output_type": "execute_result"
    }
   ],
   "source": [
    "anime = pd.read_pickle('anime.pkl')\n",
    "anime.head(2)"
   ]
  },
  {
   "cell_type": "code",
   "execution_count": 14,
   "id": "84c44372",
   "metadata": {},
   "outputs": [
    {
     "data": {
      "text/plain": [
       "'Title: Cowboy Bebop. Overview: In the year 2071, humanity has colonized several of the planets and moons of the solar system leaving the now uninhabitable surface of planet Earth behind. The Inter Solar System Police attempts to keep peace in the galaxy, aided in part by outlaw bounty hunters, referred to as \"Cowboys.\" The ragtag team aboard the spaceship Bebop are two such individuals. Mellow and carefree Spike Spiegel is balanced by his boisterous, pragmatic partner Jet Black as the pair makes a living chasing bounties and collecting rewards. Thrown off course by the addition of new members that they meet in their travels—Ein, a genetically engineered, highly intelligent Welsh Corgi; femme fatale Faye Valentine, an enigmatic trickster with memory loss; and the strange computer whiz kid Edward Wong—the crew embarks on thrilling adventures that unravel each member\\'s dark and mysterious past little by little. Well-balanced with high density action and light-hearted comedy, Cowboy Bebop is a space Western classic and an homage to the smooth and improvised music it is named after. Genres: Action, Adventure, Comedy, Drama, Sci-Fi, Space'"
      ]
     },
     "execution_count": 14,
     "metadata": {},
     "output_type": "execute_result"
    }
   ],
   "source": [
    "anime['text'][0]"
   ]
  },
  {
   "cell_type": "code",
   "execution_count": null,
   "id": "a0398851",
   "metadata": {
    "scrolled": true
   },
   "outputs": [],
   "source": [
    "import lancedb # pip install lancedb\n",
    "\n",
    "uri = \"dataset/sample-anime-lancedb\"\n",
    "db = lancedb.connect(uri)\n",
    "'''lancedb.connect(uri) 用于建立与 LanceDB 数据库的连接：\n",
    "如果 uri 对应的路径不存在，会自动创建新的数据库；\n",
    "如果路径已存在（之前创建过），则连接到已有的数据库。'''\n",
    "table = db.create_table(\"anime\", anime) # 不能运行两次，否则会报错\n"
   ]
  },
  {
   "cell_type": "code",
   "execution_count": 22,
   "id": "d2d7ba63",
   "metadata": {},
   "outputs": [],
   "source": [
    "from langchain_huggingface import HuggingFaceEmbeddings \n",
    "from langchain.vectorstores import LanceDB\n",
    "from langchain.chains import RetrievalQA\n",
    "embeddings = HuggingFaceEmbeddings(model_name=\"all-MiniLM-L6-v2\")\n",
    "# 1. 连接到 LanceDB 数据库\n",
    "db = lancedb.connect(uri)  # 替换为你的数据库路径\n",
    "\n",
    "# 2. 你的表已经存在，通过表名获取它\n",
    "# 如果表不存在，你需要先创建它，通常是通过 db.create_table 并传入数据和嵌入向量\n",
    "table = db.open_table(\"anime\")  # 替换为你的表名\n",
    "\n",
    "#创建一个与 LanceDB 向量数据库关联的检索器（docsearch）  是LangChain 封装的 “向量数据库检索器”\n",
    "docsearch = LanceDB(\n",
    "    connection=db, # db 是之前通过 lancedb.connect(uri) 创建的 LanceDB 数据库连接对象（代表与数据库的连接）\n",
    "    table=table,  # table 是之前通过 db.create_table(\"anime\", anime) 创建的表对象（存储了动漫的 vector 向量和 text 文本等数据）\n",
    "    embedding=embeddings)"
   ]
  },
  {
   "cell_type": "code",
   "execution_count": 24,
   "id": "1211e4fa",
   "metadata": {},
   "outputs": [
    {
     "name": "stdout",
     "output_type": "stream",
     "text": [
      "相似度分数: 0.8462\n",
      "内容: Title: Animation!. Overview: collection of short animations, from the revelations Tomoyoshi Joko and...\n",
      "---\n",
      "相似度分数: 0.8509\n",
      "内容: Title: Paper Film. Overview: short animation by Taku Furukawa. Genres: Comedy...\n",
      "---\n",
      "相似度分数: 0.8831\n",
      "内容: Title: Shinkansen Henkei Robo Shinkalion Z the Animation. Overview: No synopsis information has been...\n",
      "---\n"
     ]
    }
   ],
   "source": [
    "query = \"I'm looking for an action anime. What could you suggest to me?\"\n",
    "docs_with_scores = docsearch.similarity_search_with_score(query, k=3)\n",
    "for doc, score in docs_with_scores:\n",
    "    print(f\"相似度分数: {score:.4f}\")\n",
    "    print(f\"内容: {doc.page_content[:100]}...\")\n",
    "    print(\"---\")"
   ]
  },
  {
   "cell_type": "code",
   "execution_count": 28,
   "id": "ec1c8e15",
   "metadata": {},
   "outputs": [
    {
     "name": "stdout",
     "output_type": "stream",
     "text": [
      "Based on the anime titles I have information about, I can suggest the following action anime:\n",
      "\n",
      "1. \"Shinkansen Henkei Robo Shinkalion The Animation Recap\" - This is an action, sci-fi, mecha anime aimed at kids. It appears to be a recap version of the main series.\n",
      "\n",
      "2. \"Shinkansen Henkei Robo Shinkalion Z the Animation\" - This is another action, sci-fi, mecha anime for kids, likely a sequel or continuation of the previous series.\n",
      "\n",
      "Both of these titles fall under the action genre you're looking for, though I don't have detailed synopsis information available for either one. They appear to be mecha series involving transforming bullet train robots."
     ]
    },
    {
     "data": {
      "text/plain": [
       "'Based on the anime titles I have information about, I can suggest the following action anime:\\n\\n1. \"Shinkansen Henkei Robo Shinkalion The Animation Recap\" - This is an action, sci-fi, mecha anime aimed at kids. It appears to be a recap version of the main series.\\n\\n2. \"Shinkansen Henkei Robo Shinkalion Z the Animation\" - This is another action, sci-fi, mecha anime for kids, likely a sequel or continuation of the previous series.\\n\\nBoth of these titles fall under the action genre you\\'re looking for, though I don\\'t have detailed synopsis information available for either one. They appear to be mecha series involving transforming bullet train robots.'"
      ]
     },
     "execution_count": 28,
     "metadata": {},
     "output_type": "execute_result"
    }
   ],
   "source": [
    "from langchain_openai import ChatOpenAI\n",
    "from langchain.callbacks.streaming_stdout import StreamingStdOutCallbackHandler\n",
    "# 导入流式输出回调处理器，用于实时打印模型生成的内容（避免等待完整结果，提升交互体验）\n",
    "callbacks = [StreamingStdOutCallbackHandler()]\n",
    "\n",
    "'''通过RetrievalQA.from_chain_type构建 RAG 系统，连接 “检索器” 和 “大语言模型”：\n",
    "检索器（retriever）负责从向量数据库中找到与用户 query 相关的动漫信息（比如 “动作类” 相关的动漫文本和向量）；\n",
    "大语言模型（llm）负责将检索到的信息整理成自然语言推荐结果，同时支持流式输出。'''\n",
    "qa = RetrievalQA.from_chain_type(\n",
    "    llm=ChatOpenAI(model=\"glm-4.5\",\n",
    "    api_key=\"\",\n",
    "    base_url=\"https://dashscope.aliyuncs.com/compatible-mode/v1\",\n",
    "    streaming=True,  # 启用流式模式\n",
    "    callbacks=callbacks  # 添加回调处理器\n",
    "    ), \n",
    "chain_type=\"stuff\", retriever=docsearch.as_retriever(), return_source_documents=True)\n",
    "# chain_type=\"stuff\"：指定链类型：\"stuff\"表示将所有检索到的文档内容整合到一个prompt中传给模型\n",
    "#  return_source_documents=True：配置是否返回检索到的原始文档（方便查看推荐依据）\n",
    "\n",
    "query = \"I'm looking for an action anime. What could you suggest to me?\"\n",
    "result = qa.invoke({\"query\": query})\n",
    "result['result']"
   ]
  },
  {
   "cell_type": "code",
   "execution_count": 32,
   "id": "0c2e509e",
   "metadata": {},
   "outputs": [
    {
     "data": {
      "text/plain": [
       "{'query': '推荐一些动作动画',\n",
       " 'result': '根据您提供的信息，我推荐一部动作动画：\\n\\n《Wu Liuqi Zhi Xuanwu Guo Pian》（伍六七之玄武国篇）- 这是一部包含动作、冒险、喜剧、剧情、武术、神秘和超能力元素的作品。故事讲述了伍六七和他的伙伴大宝和小飞为了保护小鸡岛的居民和那里的和平生活，踏上前往玄武国的旅程，以寻找他身份的真相和拯救岛屿的方法。等待他们的是更多未知和冒险。\\n\\n如果您需要更多动作动画推荐，我很乐意在获得更多信息后为您提供。',\n",
       " 'source_documents': [Document(metadata={}, page_content='Title: Wu Liuqi Zhi Xuanwu Guo Pian. Overview: In order to protect the residents of Xiaoji Island and the peaceful life here, Wu Liuqi and his partners Dabao and Xiaofei embark on a journey to the Xuanwu Kingdom to find out the truth about his identity and a way to save the island. Waiting for them is more unknowns and adventures. (Source: bilibili, edited) Genres: Action, Adventure, Comedy, Drama, Martial Arts, Mystery, Super Power'),\n",
       "  Document(metadata={}, page_content=\"Title: Itsumo Kokoro ni Taiyou wo!. Overview: Follows the story of the manga of the same name where a a high school boy finds a room for a boarding house that only costs 30,000 yen a month (about 300 USD). But there's a catch. Genres: Comedy, Ecchi\"),\n",
       "  Document(metadata={}, page_content='Title: Meng Qi Shi Shen. Overview: Ye Jiayao finds herself back in time in the body of Ye Jinxuan. After many twists, she thought that she would finally be able to lead a simple life and achieve her dream of opening the best restaurant in Huai Song. However, there are villains constantly trying to bring her down. (Source: Novelupdates) Genres: Adventure, Comedy, Historical, Drama, Romance, Shoujo'),\n",
       "  Document(metadata={}, page_content='Title: Bai Yao Pu. Overview: follow the adventures of a mysterious young girl, accompanied by a young monk and a demon doctor. Together, they solve human problems and cure illnesses caused by demons and ghosts. (Source: Anilist) Genres: Adventure, Mystery, Historical, Supernatural, Fantasy')]}"
      ]
     },
     "execution_count": 32,
     "metadata": {},
     "output_type": "execute_result"
    }
   ],
   "source": [
    "import asyncio\n",
    "from langchain.chains import RetrievalQA\n",
    "\n",
    "# 配置流式但不在控制台实时显示\n",
    "llm = ChatOpenAI(\n",
    "    model=\"glm-4.5\",\n",
    "    api_key=\"sk-468218656c7a4e858c038c81d49665a7\",\n",
    "    base_url=\"https://dashscope.aliyuncs.com/compatible-mode/v1\", \n",
    "    streaming=True,  # 仍然启用流式，但不用回调显示\n",
    "    temperature=0.7\n",
    ")\n",
    "\n",
    "qa = RetrievalQA.from_chain_type(\n",
    "    llm=llm,\n",
    "    chain_type=\"stuff\",\n",
    "    retriever=docsearch.as_retriever(),\n",
    "    return_source_documents=True\n",
    ")\n",
    "\n",
    "# 使用异步方式运行查询\n",
    "async def ask_question(question):\n",
    "    result = qa({\"query\": question})\n",
    "    return result\n",
    "\n",
    "# 运行示例\n",
    "await ask_question(\"推荐一些动作动画\")"
   ]
  }
 ],
 "metadata": {
  "kernelspec": {
   "display_name": "Python 3 (ipykernel)",
   "language": "python",
   "name": "python3"
  },
  "language_info": {
   "codemirror_mode": {
    "name": "ipython",
    "version": 3
   },
   "file_extension": ".py",
   "mimetype": "text/x-python",
   "name": "python",
   "nbconvert_exporter": "python",
   "pygments_lexer": "ipython3",
   "version": "3.10.8"
  }
 },
 "nbformat": 4,
 "nbformat_minor": 5
}
