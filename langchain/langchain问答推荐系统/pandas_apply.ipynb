{
 "cells": [
  {
   "cell_type": "markdown",
   "id": "27a029e7-d4b4-4473-9013-a555fe0b4ada",
   "metadata": {},
   "source": [
    "在 复杂逻辑，需要**多个列参与计算** 或者 **调用外部函数** 的情况，推荐使用`apply`"
   ]
  },
  {
   "cell_type": "markdown",
   "id": "b01456d6-34cf-41cc-90ef-7f56dc513c6d",
   "metadata": {},
   "source": [
    "场景\t|使用方式|\t示例|\n",
    "|---|---|---|\n",
    "|按列处理|\tdf.apply(func)\t|计算每列统计量\n",
    "|按行处理|\tdf.apply(func, axis=1)|\t组合多个列的值\n",
    "|元素处理|\tseries.apply(func)\t|对每个元素进行转换\n",
    "|简单运算|\t避免使用apply，用向量化操作|\tdf['A'] * 2\n",
    "|复杂逻辑|\t使用apply\t|涉及多个列的条件计算\n"
   ]
  },
  {
   "cell_type": "markdown",
   "id": "15600682-31f2-4475-a645-2524d4c60a1c",
   "metadata": {},
   "source": [
    "lambda row: - 定义一个匿名函数，参数是 row（代表DataFrame的每一行）   \n",
    "f\"...\" - f-string 格式化字符串   \n",
    "{row['Name']} - 插入该行的 'Name' 列值   \n",
    "{row['sypnopsis']} - 插入该行的 'sypnopsis' 列值   \n",
    "{row['Genres']} - 插入该行的 'Genres' 列值   \n",
    "\n",
    "axis=0：按列操作  \n",
    "axis=1：按行操作，row 参数就是每一行的数据  "
   ]
  },
  {
   "cell_type": "code",
   "execution_count": 8,
   "id": "3e3d2903-cccb-458e-90ce-e2113a599da4",
   "metadata": {},
   "outputs": [
    {
     "name": "stdout",
     "output_type": "stream",
     "text": [
      "0    Title: Naruto. Overview: A young ninja dreams ...\n",
      "1    Title: One Piece. Overview: Pirate adventure t...\n",
      "2    Title: Attack on Titan. Overview: Humanity fig...\n",
      "Name: combined_info, dtype: object\n"
     ]
    }
   ],
   "source": [
    "import pandas as pd\n",
    "\n",
    "# 示例数据\n",
    "anime = pd.DataFrame({\n",
    "    'Name': ['Naruto', 'One Piece', 'Attack on Titan'],\n",
    "    'sypnopsis': [\n",
    "        'A young ninja dreams of becoming Hokage',\n",
    "        'Pirate adventure to find the ultimate treasure', \n",
    "        'Humanity fights against giant humanoid creatures'\n",
    "    ],\n",
    "    'Genres': ['Action, Adventure, Comedy', 'Action, Adventure, Fantasy', 'Action, Drama, Fantasy']\n",
    "})\n",
    "\n",
    "# 应用 lambda 函数\n",
    "anime['combined_info'] = anime.apply(\n",
    "    lambda row: f\"Title: {row['Name']}. Overview: {row['sypnopsis']} Genres: {row['Genres']}\", \n",
    "    axis=1\n",
    ")\n",
    "\n",
    "print(anime['combined_info'])"
   ]
  },
  {
   "cell_type": "markdown",
   "id": "16ecfff0-9a4a-4264-8863-4179e3e87f72",
   "metadata": {},
   "source": [
    "# 等效写法"
   ]
  },
  {
   "cell_type": "code",
   "execution_count": 9,
   "id": "f3619527-8977-4015-b411-fea4e0f02919",
   "metadata": {},
   "outputs": [
    {
     "name": "stdout",
     "output_type": "stream",
     "text": [
      "0    Title: Naruto. Overview: A young ninja dreams ...\n",
      "1    Title: One Piece. Overview: Pirate adventure t...\n",
      "2    Title: Attack on Titan. Overview: Humanity fig...\n",
      "Name: combined_info, dtype: object\n"
     ]
    }
   ],
   "source": [
    "# 示例数据\n",
    "anime1 = pd.DataFrame({\n",
    "    'Name': ['Naruto', 'One Piece', 'Attack on Titan'],\n",
    "    'sypnopsis': [\n",
    "        'A young ninja dreams of becoming Hokage',\n",
    "        'Pirate adventure to find the ultimate treasure', \n",
    "        'Humanity fights against giant humanoid creatures'\n",
    "    ],\n",
    "    'Genres': ['Action, Adventure, Comedy', 'Action, Adventure, Fantasy', 'Action, Drama, Fantasy']\n",
    "})\n",
    "def create_combined_info(row):\n",
    "    return f\"Title: {row['Name']}. Overview: {row['sypnopsis']} Genres: {row['Genres']}\"\n",
    "\n",
    "anime1['combined_info'] = anime.apply(create_combined_info, axis=1)\n",
    "print(anime1['combined_info'])"
   ]
  },
  {
   "cell_type": "code",
   "execution_count": 11,
   "id": "432433f9-0795-4108-8179-f5e469ceabeb",
   "metadata": {},
   "outputs": [
    {
     "name": "stdout",
     "output_type": "stream",
     "text": [
      "0    Title: Naruto. Overview: A young ninja dreams ...\n",
      "1    Title: One Piece. Overview: Pirate adventure t...\n",
      "2    Title: Attack on Titan. Overview: Humanity fig...\n",
      "Name: combined_info, dtype: object\n"
     ]
    }
   ],
   "source": [
    "anime2 = pd.DataFrame({\n",
    "    'Name': ['Naruto', 'One Piece', 'Attack on Titan'],\n",
    "    'sypnopsis': [\n",
    "        'A young ninja dreams of becoming Hokage',\n",
    "        'Pirate adventure to find the ultimate treasure', \n",
    "        'Humanity fights against giant humanoid creatures'\n",
    "    ],\n",
    "    'Genres': ['Action, Adventure, Comedy', 'Action, Adventure, Fantasy', 'Action, Drama, Fantasy']\n",
    "})\n",
    "anime2['combined_info'] = \"Title: \" + anime['Name'] + \". Overview: \" + anime['sypnopsis'] + \" Genres: \" + anime['Genres']\n",
    "print(anime2['combined_info'])"
   ]
  },
  {
   "cell_type": "markdown",
   "id": "c047c3d3-9196-408f-ad92-6e98d9764b43",
   "metadata": {},
   "source": [
    "## 按列操作"
   ]
  },
  {
   "cell_type": "code",
   "execution_count": 4,
   "id": "d3ffa049-c9f8-46a4-a5e6-e0cf1a6b1d8a",
   "metadata": {},
   "outputs": [
    {
     "name": "stdout",
     "output_type": "stream",
     "text": [
      "   A  B  C\n",
      "0  1  4  7\n",
      "1  2  5  8\n",
      "2  3  6  9\n",
      "A     6\n",
      "B    15\n",
      "C    24\n",
      "dtype: int64\n"
     ]
    }
   ],
   "source": [
    "import pandas as pd\n",
    "import numpy as np\n",
    "\n",
    "df = pd.DataFrame({\n",
    "    'A': [1, 2, 3],\n",
    "    'B': [4, 5, 6],\n",
    "    'C': [7, 8, 9]\n",
    "})\n",
    "print(df)\n",
    "# 对每列应用函数（默认 axis=0）\n",
    "result = df.apply(np.sum)  # 计算每列的和\n",
    "print(result)\n",
    "# 输出:\n",
    "# A     6\n",
    "# B    15\n",
    "# C    24\n",
    "# dtype: int64"
   ]
  },
  {
   "cell_type": "code",
   "execution_count": 2,
   "id": "9916b66b-d10b-44ba-8b2b-259cf3f940de",
   "metadata": {},
   "outputs": [
    {
     "name": "stdout",
     "output_type": "stream",
     "text": [
      "0    12\n",
      "1    15\n",
      "2    18\n",
      "dtype: int64\n",
      "   A  B  C  row_sum\n",
      "0  1  4  7       12\n",
      "1  2  5  8       15\n",
      "2  3  6  9       18\n"
     ]
    }
   ],
   "source": [
    "# 对每行应用函数\n",
    "result = df.apply(np.sum, axis=1)\n",
    "print(result)\n",
    "\n",
    "\n",
    "# 使用 lambda 函数\n",
    "df['row_sum'] = df.apply(lambda row: row['A'] + row['B'] + row['C'], axis=1)\n",
    "print(df)"
   ]
  },
  {
   "cell_type": "markdown",
   "id": "d739b954-f707-431d-ada5-e846b6d8098f",
   "metadata": {},
   "source": [
    "### `x.title()`是 Python 中字符串对象的一个内置方法，用于将字符串转换为标题格式。该方法会将字符串中每个单词的首字母转换为大写，其余字母转换为小写，并返回一个新的字符串，原字符串不会被修改。"
   ]
  },
  {
   "cell_type": "code",
   "execution_count": 6,
   "id": "946829ba-7eb9-46e1-84f9-d758bf9112de",
   "metadata": {},
   "outputs": [
    {
     "name": "stdout",
     "output_type": "stream",
     "text": [
      "Hello, World!\n"
     ]
    }
   ],
   "source": [
    "my_string = \"hello, world!\"\n",
    "new_string = my_string.title()\n",
    "print(new_string)"
   ]
  },
  {
   "cell_type": "markdown",
   "id": "144feed6-6e26-43ed-818d-9baaaf7a517f",
   "metadata": {},
   "source": [
    "## 数据清洗"
   ]
  },
  {
   "cell_type": "code",
   "execution_count": 5,
   "id": "fb7c8ea8-8f82-4893-b08e-6dbc3e09aa28",
   "metadata": {},
   "outputs": [
    {
     "name": "stdout",
     "output_type": "stream",
     "text": [
      "      name  age  salary\n",
      "0    Alice   25   50000\n",
      "1      Bob   30   60000\n",
      "2  Charlie   35   70000\n"
     ]
    }
   ],
   "source": [
    "df = pd.DataFrame({\n",
    "    'name': ['Alice', 'Bob', 'CHARLIE'],\n",
    "    'age': ['25', '30', '35'],\n",
    "    'salary': ['$50000', '$60000', '$70000']\n",
    "})\n",
    "\n",
    "# 统一姓名格式\n",
    "df['name'] = df['name'].apply(lambda x: x.title())\n",
    "\n",
    "# 转换数据类型\n",
    "df['age'] = df['age'].apply(int)\n",
    "\n",
    "# 处理货币数据\n",
    "df['salary'] = df['salary'].apply(lambda x: int(x.replace('$', '')))\n",
    "\n",
    "print(df)"
   ]
  },
  {
   "cell_type": "markdown",
   "id": "ca6877e7-77ac-4fe9-a8fc-edb593c01946",
   "metadata": {},
   "source": [
    "## 复杂数据处理"
   ]
  },
  {
   "cell_type": "code",
   "execution_count": 7,
   "id": "2a5cf32b-9b72-4221-805c-3ffb66574f75",
   "metadata": {},
   "outputs": [
    {
     "name": "stdout",
     "output_type": "stream",
     "text": [
      "               email      full_name       domain last_name\n",
      "0  alice@example.com    Alice Smith  example.com     Smith\n",
      "1      bob@gmail.com    Bob Johnson    gmail.com   Johnson\n",
      "2  charlie@yahoo.com  Charlie Brown    yahoo.com     Brown\n"
     ]
    }
   ],
   "source": [
    "df = pd.DataFrame({\n",
    "    'email': ['alice@example.com', 'bob@gmail.com', 'charlie@yahoo.com'],\n",
    "    'full_name': ['Alice Smith', 'Bob Johnson', 'Charlie Brown']\n",
    "})\n",
    "\n",
    "# 提取域名\n",
    "df['domain'] = df['email'].apply(lambda x: x.split('@')[1])\n",
    "\n",
    "# 提取姓氏\n",
    "df['last_name'] = df['full_name'].apply(lambda x: x.split()[-1])\n",
    "\n",
    "print(df)"
   ]
  },
  {
   "cell_type": "code",
   "execution_count": null,
   "id": "987e7368-1fef-4547-8794-8eaa65685dc2",
   "metadata": {},
   "outputs": [],
   "source": []
  }
 ],
 "metadata": {
  "kernelspec": {
   "display_name": "Python 3 (ipykernel)",
   "language": "python",
   "name": "python3"
  },
  "language_info": {
   "codemirror_mode": {
    "name": "ipython",
    "version": 3
   },
   "file_extension": ".py",
   "mimetype": "text/x-python",
   "name": "python",
   "nbconvert_exporter": "python",
   "pygments_lexer": "ipython3",
   "version": "3.10.8"
  }
 },
 "nbformat": 4,
 "nbformat_minor": 5
}
